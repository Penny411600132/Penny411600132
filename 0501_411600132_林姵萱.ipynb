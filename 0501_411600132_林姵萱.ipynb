{
  "nbformat": 4,
  "nbformat_minor": 0,
  "metadata": {
    "colab": {
      "provenance": [],
      "authorship_tag": "ABX9TyOdFwXYyekfKpr9kkU8Hmbr",
      "include_colab_link": true
    },
    "kernelspec": {
      "name": "python3",
      "display_name": "Python 3"
    },
    "language_info": {
      "name": "python"
    }
  },
  "cells": [
    {
      "cell_type": "markdown",
      "metadata": {
        "id": "view-in-github",
        "colab_type": "text"
      },
      "source": [
        "<a href=\"https://colab.research.google.com/github/Penny411600132/Penny411600132/blob/main/0501_411600132_%E6%9E%97%E5%A7%B5%E8%90%B1.ipynb\" target=\"_parent\"><img src=\"https://colab.research.google.com/assets/colab-badge.svg\" alt=\"Open In Colab\"/></a>"
      ]
    },
    {
      "cell_type": "code",
      "execution_count": null,
      "metadata": {
        "colab": {
          "base_uri": "https://localhost:8080/"
        },
        "id": "XPKVnM4dQbyJ",
        "outputId": "03e4f969-f3e4-4f16-9e07-fc8a6cbb0178"
      },
      "outputs": [
        {
          "output_type": "stream",
          "name": "stdout",
          "text": [
            "Hello World\n"
          ]
        }
      ],
      "source": [
        "print(\"Hello World\")"
      ]
    },
    {
      "cell_type": "code",
      "source": [
        "print(\"請輸入攝氏C\")\n",
        "c=float(input())\n",
        "f= 9/5 * c + 32  #華氏 =9/5*攝氏+32\n",
        "print(\"華氏 = \",f,\"度F\")"
      ],
      "metadata": {
        "colab": {
          "base_uri": "https://localhost:8080/"
        },
        "id": "nxgnNiBUQpkN",
        "outputId": "ef743b03-5efe-470f-d51d-f8e41f65c34a"
      },
      "execution_count": null,
      "outputs": [
        {
          "output_type": "stream",
          "name": "stdout",
          "text": [
            "請輸入攝氏C\n",
            "100\n",
            "華氏 =  212.0 度F\n"
          ]
        }
      ]
    },
    {
      "cell_type": "code",
      "source": [
        "tmp=0\n",
        "for i in range(1,6):\n",
        " tmp+=i\n",
        "print('%d'%tmp)"
      ],
      "metadata": {
        "id": "NjW9veKOREVh",
        "colab": {
          "base_uri": "https://localhost:8080/"
        },
        "outputId": "1a43673b-d003-486b-b07b-f4819794d2fe"
      },
      "execution_count": 7,
      "outputs": [
        {
          "output_type": "stream",
          "name": "stdout",
          "text": [
            "15\n"
          ]
        }
      ]
    },
    {
      "cell_type": "code",
      "source": [
        "deposit = int(input(\"請輸入本金存款金額：\"))\n",
        "times = 1.02 ** 6\n",
        "deposit *= times\n",
        "print(\"6年後存款為：\"+str(deposit))"
      ],
      "metadata": {
        "colab": {
          "base_uri": "https://localhost:8080/"
        },
        "id": "GmV6nPthSWr8",
        "outputId": "faeff74b-01f0-4225-9dd1-e05b8a3266a5"
      },
      "execution_count": 12,
      "outputs": [
        {
          "output_type": "stream",
          "name": "stdout",
          "text": [
            "請輸入本金存款金額：10000\n",
            "6年後存款為：11261.62419264\n"
          ]
        }
      ]
    }
  ]
}