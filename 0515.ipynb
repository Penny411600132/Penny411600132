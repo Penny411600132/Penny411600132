{
  "nbformat": 4,
  "nbformat_minor": 0,
  "metadata": {
    "colab": {
      "provenance": [],
      "authorship_tag": "ABX9TyPSrUg6fJon9b4GiDdFTwiW",
      "include_colab_link": true
    },
    "kernelspec": {
      "name": "python3",
      "display_name": "Python 3"
    },
    "language_info": {
      "name": "python"
    }
  },
  "cells": [
    {
      "cell_type": "markdown",
      "metadata": {
        "id": "view-in-github",
        "colab_type": "text"
      },
      "source": [
        "<a href=\"https://colab.research.google.com/github/Penny411600132/Penny411600132/blob/main/0515.ipynb\" target=\"_parent\"><img src=\"https://colab.research.google.com/assets/colab-badge.svg\" alt=\"Open In Colab\"/></a>"
      ]
    },
    {
      "cell_type": "code",
      "execution_count": 1,
      "metadata": {
        "colab": {
          "base_uri": "https://localhost:8080/"
        },
        "id": "1tPWS5REw0SS",
        "outputId": "954c0a77-43d6-4e63-84c2-bfdc28c550cf"
      },
      "outputs": [
        {
          "output_type": "stream",
          "name": "stdout",
          "text": [
            "0515\n"
          ]
        }
      ],
      "source": [
        "print(\"0515\")"
      ]
    },
    {
      "cell_type": "code",
      "source": [
        "rain = str(input(\"今天會下雨嗎:\"))\n",
        "if rain ==\"Y\":\n",
        "  print(\"出門記得帶傘！\")\n",
        "elif rain ==\"y\":\n",
        "  print(\"出門記得帶傘！\")\n",
        "else:\n",
        "  print(\"請重新輸入\")\n"
      ],
      "metadata": {
        "colab": {
          "base_uri": "https://localhost:8080/"
        },
        "id": "m2gjsUWcxNus",
        "outputId": "d809b72d-9c5e-4b6f-b6e8-78d6a7512ad7"
      },
      "execution_count": 2,
      "outputs": [
        {
          "output_type": "stream",
          "name": "stdout",
          "text": [
            "今天會下雨嗎:N\n",
            "請重新輸入\n"
          ]
        }
      ]
    },
    {
      "cell_type": "code",
      "source": [
        "month =int(input(\"請輸入月份：\"))\n",
        "if (1 <= month <= 3):\n",
        "  print(\"春天\")\n",
        "elif (4 <= month <= 6):\n",
        "  print(\"夏天\")\n",
        "elif (7 <= month <= 9):\n",
        "  print(\"秋天\")\n",
        "elif (10 <= month <= 12):\n",
        "  print(\"冬天\")\n",
        "else:\n",
        "  print(\"月份不在範圍內\")"
      ],
      "metadata": {
        "colab": {
          "base_uri": "https://localhost:8080/"
        },
        "id": "XjqOPGWnyTPx",
        "outputId": "fe8fab23-2e04-4b22-c881-8ad633b188c6"
      },
      "execution_count": 10,
      "outputs": [
        {
          "output_type": "stream",
          "name": "stdout",
          "text": [
            "請輸入月份：7\n",
            "秋天\n"
          ]
        }
      ]
    },
    {
      "cell_type": "code",
      "source": [
        "temperature = float(input(\"請輸入體溫：\"))\n",
        "if (temperature >= 37.5):\n",
        "  print(\"體溫略高！\")\n",
        "elif (37<= temperature <= 37.4):\n",
        "  print(\"體溫略高！\")\n",
        "elif (34 <= temperature <= 36.9):\n",
        "  print(\"體溫正常！\")\n",
        "else:\n",
        "  print(\"體溫異常，請重新測量！\")"
      ],
      "metadata": {
        "colab": {
          "base_uri": "https://localhost:8080/"
        },
        "id": "2m5i7-RF2eA5",
        "outputId": "cd92af9b-2b59-49e4-9705-10d9807cab44"
      },
      "execution_count": 14,
      "outputs": [
        {
          "output_type": "stream",
          "name": "stdout",
          "text": [
            "請輸入體溫：33\n",
            "體溫異常，請重新測量！\n"
          ]
        }
      ]
    },
    {
      "cell_type": "code",
      "source": [
        "score = int(input(\"請輸入成績: \"))\n",
        "if (score >= 90):\n",
        "  print('Grade is: A')\n",
        "elif (80<=score<=89) :\n",
        "  print('Grade is: B')\n",
        "elif (70<=score <= 79):\n",
        "  print('Grade is: C')\n",
        "elif (60<=score <= 69):\n",
        "  print('Grade is: D')\n",
        "else:\n",
        "  print('Grade is: E')"
      ],
      "metadata": {
        "colab": {
          "base_uri": "https://localhost:8080/"
        },
        "id": "26CqIpt6KZ-5",
        "outputId": "94135ac0-5add-457e-9122-ac3f34b0c5ed"
      },
      "execution_count": 24,
      "outputs": [
        {
          "output_type": "stream",
          "name": "stdout",
          "text": [
            "請輸入成績: 60\n",
            "Grade is: D\n"
          ]
        }
      ]
    },
    {
      "cell_type": "code",
      "source": [
        "money = int(input(\"請輸入稅金: \"))\n",
        "if money >= 2000000:\n",
        "  print(money*0.3,end=\"元\\n\")\n",
        "elif money >= 1000000:\n",
        "  print(money*0.21,end=\"元\\n\")\n",
        "elif money >= 600000:\n",
        "  print(money*0.13,end=\"元\\n\")\n",
        "elif money >= 300000:\n",
        "  print(money*0.06,end=\"元\\n\")\n",
        "else:\n",
        "  print('無法計算')"
      ],
      "metadata": {
        "colab": {
          "base_uri": "https://localhost:8080/"
        },
        "id": "vX8MNcvQNwdp",
        "outputId": "38872dae-eb69-4a9a-9cb6-c19e0f9ac027"
      },
      "execution_count": 27,
      "outputs": [
        {
          "output_type": "stream",
          "name": "stdout",
          "text": [
            "請輸入稅金: 400000\n",
            "24000.0元\n"
          ]
        }
      ]
    }
  ]
}